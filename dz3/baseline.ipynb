{
  "cells": [
    {
      "cell_type": "markdown",
      "metadata": {
        "id": "TK7oX5qdEEYr"
      },
      "source": [
        "<p style=\"align: center;\"><img align=center src=\"https://s8.hostingkartinok.com/uploads/images/2018/08/308b49fcfbc619d629fe4604bceb67ac.jpg\" width=500 height=450/></p>\n",
        "\n",
        "<h3 style=\"text-align: center;\"><b>Школа глубокого обучения ФПМИ МФТИ</b></h3>\n",
        "\n",
        "<h3 style=\"text-align: center;\"><b>Домашнее задание. Продвинутый поток. Весна 2021</b></h3>\n",
        "\n",
        "Это домашнее задание будет посвящено полноценному решению задачи машинного обучения."
      ]
    },
    {
      "cell_type": "markdown",
      "metadata": {
        "id": "zlB-owfaEEYs"
      },
      "source": [
        "Есть две части этого домашнего задания: \n",
        "* Сделать полноценный отчет о вашей работе: как вы обработали данные, какие модели попробовали и какие результаты получились (максимум 10 баллов). За каждую выполненную часть будет начислено определенное количество баллов.\n",
        "* Лучшее решение отправить в соревнование на [kaggle](https://www.kaggle.com/c/advanced-dls-spring-2021/) (максимум 5 баллов). За прохождение определенного порогов будут начисляться баллы.\n",
        "\n",
        "\n",
        "**Обе части будут проверяться в формате peer-review. Т.е. вашу посылку на степик будут проверять несколько других студентов и аггрегация их оценок будет выставлена. В то же время вам тоже нужно будет проверить несколько других учеников.**\n",
        "\n",
        "**Пожалуйста, делайте свою работу чистой и понятной, чтобы облегчить проверку. Если у вас будут проблемы с решением или хочется совета, то пишите в наш чат в телеграме или в лс @runfme. Если вы захотите проаппелировать оценку, то пипшите в лс @runfme.**\n",
        "\n",
        "**Во всех пунктах указания это минимальный набор вещей, которые стоит сделать. Если вы можете сделать какой-то шаг лучше или добавить что-то свое - дерзайте!**"
      ]
    },
    {
      "cell_type": "markdown",
      "metadata": {
        "id": "Tu_JvqcBEN8Y"
      },
      "source": [
        "# Как проверять?\n",
        "\n",
        "Ставьте полный балл, если выполнены все рекомендации или сделано что-то более интересное и сложное. За каждый отсустствующий пункт из рекомендация снижайте 1 балл."
      ]
    },
    {
      "cell_type": "markdown",
      "metadata": {
        "id": "ninJ63mJEEYt"
      },
      "source": [
        "# Метрика\n",
        "\n",
        "Перед решением любой задачи важно понимать, как будет оцениваться ваше решение. В данном случае мы используем стандартную для задачи классификации метрику ROC-AUC. Ее можно вычислить используя только предсказанные вероятности и истинные классы без конкретного порога классификации + она раотает даже если классы в данных сильно несбалансированны (примеров одного класса в десятки раз больше примеров длугого). Именно поэтому она очень удобна для соревнований.\n",
        "\n",
        "Посчитать ее легко:\n"
      ]
    },
    {
      "cell_type": "code",
      "execution_count": 1,
      "metadata": {
        "id": "SQIrka7yEEYu",
        "outputId": "ef45a9f2-7571-47b1-e697-b474b65cb0fb"
      },
      "outputs": [
        {
          "data": {
            "text/plain": [
              "0.8333333333333333"
            ]
          },
          "execution_count": 1,
          "metadata": {},
          "output_type": "execute_result"
        }
      ],
      "source": [
        "from sklearn.metrics import roc_auc_score\n",
        "\n",
        "y_true = [\n",
        "    0,\n",
        "    1,\n",
        "    1,\n",
        "    0,\n",
        "    1\n",
        "]\n",
        "\n",
        "y_predictions = [\n",
        "    0.1,\n",
        "    0.9,\n",
        "    0.4,\n",
        "    0.6,\n",
        "    0.61\n",
        "]\n",
        "\n",
        "roc_auc_score(y_true, y_predictions)"
      ]
    },
    {
      "cell_type": "markdown",
      "metadata": {
        "id": "IrDNNkNTEEYz"
      },
      "source": [
        "# Первая часть. Исследование"
      ]
    },
    {
      "cell_type": "code",
      "execution_count": 2,
      "metadata": {
        "id": "lzLqEeZKEEYz"
      },
      "outputs": [],
      "source": [
        "import pandas as pd\n",
        "import numpy as np\n",
        "from matplotlib import pyplot as plt"
      ]
    },
    {
      "cell_type": "markdown",
      "metadata": {
        "id": "LOlxdURSEEY3"
      },
      "source": [
        "## Загрузка данных (2 балла)\n",
        "\n",
        "1) Посмотрите на случайные строчки. \n",
        "\n",
        "2) Посмотрите, есть ли в датасете незаполненные значения (nan'ы) с помощью data.isna() или data.info() и, если нужно, замените их на что-то. Будет хорошо, если вы построите табличку с количеством nan в каждой колонке."
      ]
    },
    {
      "cell_type": "code",
      "execution_count": 3,
      "metadata": {
        "id": "pw-Brue9EEY3"
      },
      "outputs": [],
      "source": [
        "data = pd.read_csv('./train.csv')"
      ]
    },
    {
      "cell_type": "code",
      "execution_count": 4,
      "metadata": {
        "id": "KgnkkF5bEEY9"
      },
      "outputs": [],
      "source": [
        "# Для вашего удобства списки с именами разных колонок\n",
        "\n",
        "# Числовые признаки\n",
        "num_cols = [\n",
        "    'ClientPeriod',\n",
        "    'MonthlySpending',\n",
        "    'TotalSpent'\n",
        "]\n",
        "\n",
        "# Категориальные признаки\n",
        "cat_cols = [\n",
        "    'Sex',\n",
        "    'IsSeniorCitizen',\n",
        "    'HasPartner',\n",
        "    'HasChild',\n",
        "    'HasPhoneService',\n",
        "    'HasMultiplePhoneNumbers',\n",
        "    'HasInternetService',\n",
        "    'HasOnlineSecurityService',\n",
        "    'HasOnlineBackup',\n",
        "    'HasDeviceProtection',\n",
        "    'HasTechSupportAccess',\n",
        "    'HasOnlineTV',\n",
        "    'HasMovieSubscription',\n",
        "    'HasContractPhone',\n",
        "    'IsBillingPaperless',\n",
        "    'PaymentMethod'\n",
        "]\n",
        "\n",
        "feature_cols = num_cols + cat_cols\n",
        "target_col = 'Churn'"
      ]
    },
    {
      "cell_type": "code",
      "execution_count": 5,
      "metadata": {
        "id": "tHC6gWabEEZA"
      },
      "outputs": [
        {
          "data": {
            "text/html": [
              "<div>\n",
              "<style scoped>\n",
              "    .dataframe tbody tr th:only-of-type {\n",
              "        vertical-align: middle;\n",
              "    }\n",
              "\n",
              "    .dataframe tbody tr th {\n",
              "        vertical-align: top;\n",
              "    }\n",
              "\n",
              "    .dataframe thead th {\n",
              "        text-align: right;\n",
              "    }\n",
              "</style>\n",
              "<table border=\"1\" class=\"dataframe\">\n",
              "  <thead>\n",
              "    <tr style=\"text-align: right;\">\n",
              "      <th></th>\n",
              "      <th>ClientPeriod</th>\n",
              "      <th>MonthlySpending</th>\n",
              "      <th>TotalSpent</th>\n",
              "      <th>Sex</th>\n",
              "      <th>IsSeniorCitizen</th>\n",
              "      <th>HasPartner</th>\n",
              "      <th>HasChild</th>\n",
              "      <th>HasPhoneService</th>\n",
              "      <th>HasMultiplePhoneNumbers</th>\n",
              "      <th>HasInternetService</th>\n",
              "      <th>HasOnlineSecurityService</th>\n",
              "      <th>HasOnlineBackup</th>\n",
              "      <th>HasDeviceProtection</th>\n",
              "      <th>HasTechSupportAccess</th>\n",
              "      <th>HasOnlineTV</th>\n",
              "      <th>HasMovieSubscription</th>\n",
              "      <th>HasContractPhone</th>\n",
              "      <th>IsBillingPaperless</th>\n",
              "      <th>PaymentMethod</th>\n",
              "      <th>Churn</th>\n",
              "    </tr>\n",
              "  </thead>\n",
              "  <tbody>\n",
              "    <tr>\n",
              "      <th>3602</th>\n",
              "      <td>7</td>\n",
              "      <td>44.40</td>\n",
              "      <td>265.8</td>\n",
              "      <td>Male</td>\n",
              "      <td>1</td>\n",
              "      <td>No</td>\n",
              "      <td>No</td>\n",
              "      <td>No</td>\n",
              "      <td>No phone service</td>\n",
              "      <td>DSL</td>\n",
              "      <td>No</td>\n",
              "      <td>Yes</td>\n",
              "      <td>No</td>\n",
              "      <td>Yes</td>\n",
              "      <td>No</td>\n",
              "      <td>Yes</td>\n",
              "      <td>Month-to-month</td>\n",
              "      <td>Yes</td>\n",
              "      <td>Electronic check</td>\n",
              "      <td>0</td>\n",
              "    </tr>\n",
              "    <tr>\n",
              "      <th>1137</th>\n",
              "      <td>25</td>\n",
              "      <td>20.20</td>\n",
              "      <td>507.9</td>\n",
              "      <td>Female</td>\n",
              "      <td>0</td>\n",
              "      <td>Yes</td>\n",
              "      <td>No</td>\n",
              "      <td>Yes</td>\n",
              "      <td>No</td>\n",
              "      <td>No</td>\n",
              "      <td>No internet service</td>\n",
              "      <td>No internet service</td>\n",
              "      <td>No internet service</td>\n",
              "      <td>No internet service</td>\n",
              "      <td>No internet service</td>\n",
              "      <td>No internet service</td>\n",
              "      <td>One year</td>\n",
              "      <td>Yes</td>\n",
              "      <td>Bank transfer (automatic)</td>\n",
              "      <td>0</td>\n",
              "    </tr>\n",
              "    <tr>\n",
              "      <th>4726</th>\n",
              "      <td>61</td>\n",
              "      <td>68.05</td>\n",
              "      <td>4158.25</td>\n",
              "      <td>Male</td>\n",
              "      <td>0</td>\n",
              "      <td>Yes</td>\n",
              "      <td>Yes</td>\n",
              "      <td>Yes</td>\n",
              "      <td>No</td>\n",
              "      <td>DSL</td>\n",
              "      <td>Yes</td>\n",
              "      <td>Yes</td>\n",
              "      <td>Yes</td>\n",
              "      <td>Yes</td>\n",
              "      <td>No</td>\n",
              "      <td>No</td>\n",
              "      <td>Two year</td>\n",
              "      <td>Yes</td>\n",
              "      <td>Bank transfer (automatic)</td>\n",
              "      <td>0</td>\n",
              "    </tr>\n",
              "    <tr>\n",
              "      <th>3021</th>\n",
              "      <td>55</td>\n",
              "      <td>20.00</td>\n",
              "      <td>1087.25</td>\n",
              "      <td>Female</td>\n",
              "      <td>0</td>\n",
              "      <td>Yes</td>\n",
              "      <td>Yes</td>\n",
              "      <td>Yes</td>\n",
              "      <td>No</td>\n",
              "      <td>No</td>\n",
              "      <td>No internet service</td>\n",
              "      <td>No internet service</td>\n",
              "      <td>No internet service</td>\n",
              "      <td>No internet service</td>\n",
              "      <td>No internet service</td>\n",
              "      <td>No internet service</td>\n",
              "      <td>Month-to-month</td>\n",
              "      <td>No</td>\n",
              "      <td>Credit card (automatic)</td>\n",
              "      <td>0</td>\n",
              "    </tr>\n",
              "    <tr>\n",
              "      <th>3428</th>\n",
              "      <td>39</td>\n",
              "      <td>99.75</td>\n",
              "      <td>4036</td>\n",
              "      <td>Female</td>\n",
              "      <td>1</td>\n",
              "      <td>No</td>\n",
              "      <td>No</td>\n",
              "      <td>Yes</td>\n",
              "      <td>Yes</td>\n",
              "      <td>Fiber optic</td>\n",
              "      <td>No</td>\n",
              "      <td>No</td>\n",
              "      <td>Yes</td>\n",
              "      <td>No</td>\n",
              "      <td>Yes</td>\n",
              "      <td>Yes</td>\n",
              "      <td>Month-to-month</td>\n",
              "      <td>Yes</td>\n",
              "      <td>Electronic check</td>\n",
              "      <td>0</td>\n",
              "    </tr>\n",
              "  </tbody>\n",
              "</table>\n",
              "</div>"
            ],
            "text/plain": [
              "      ClientPeriod  MonthlySpending TotalSpent     Sex  IsSeniorCitizen  \\\n",
              "3602             7            44.40      265.8    Male                1   \n",
              "1137            25            20.20      507.9  Female                0   \n",
              "4726            61            68.05    4158.25    Male                0   \n",
              "3021            55            20.00    1087.25  Female                0   \n",
              "3428            39            99.75       4036  Female                1   \n",
              "\n",
              "     HasPartner HasChild HasPhoneService HasMultiplePhoneNumbers  \\\n",
              "3602         No       No              No        No phone service   \n",
              "1137        Yes       No             Yes                      No   \n",
              "4726        Yes      Yes             Yes                      No   \n",
              "3021        Yes      Yes             Yes                      No   \n",
              "3428         No       No             Yes                     Yes   \n",
              "\n",
              "     HasInternetService HasOnlineSecurityService      HasOnlineBackup  \\\n",
              "3602                DSL                       No                  Yes   \n",
              "1137                 No      No internet service  No internet service   \n",
              "4726                DSL                      Yes                  Yes   \n",
              "3021                 No      No internet service  No internet service   \n",
              "3428        Fiber optic                       No                   No   \n",
              "\n",
              "      HasDeviceProtection HasTechSupportAccess          HasOnlineTV  \\\n",
              "3602                   No                  Yes                   No   \n",
              "1137  No internet service  No internet service  No internet service   \n",
              "4726                  Yes                  Yes                   No   \n",
              "3021  No internet service  No internet service  No internet service   \n",
              "3428                  Yes                   No                  Yes   \n",
              "\n",
              "     HasMovieSubscription HasContractPhone IsBillingPaperless  \\\n",
              "3602                  Yes   Month-to-month                Yes   \n",
              "1137  No internet service         One year                Yes   \n",
              "4726                   No         Two year                Yes   \n",
              "3021  No internet service   Month-to-month                 No   \n",
              "3428                  Yes   Month-to-month                Yes   \n",
              "\n",
              "                  PaymentMethod  Churn  \n",
              "3602           Electronic check      0  \n",
              "1137  Bank transfer (automatic)      0  \n",
              "4726  Bank transfer (automatic)      0  \n",
              "3021    Credit card (automatic)      0  \n",
              "3428           Electronic check      0  "
            ]
          },
          "execution_count": 5,
          "metadata": {},
          "output_type": "execute_result"
        }
      ],
      "source": [
        "data.sample(n = 5)"
      ]
    },
    {
      "cell_type": "code",
      "execution_count": 6,
      "metadata": {},
      "outputs": [
        {
          "name": "stdout",
          "output_type": "stream",
          "text": [
            "<class 'pandas.core.frame.DataFrame'>\n",
            "RangeIndex: 5282 entries, 0 to 5281\n",
            "Data columns (total 20 columns):\n",
            " #   Column                    Non-Null Count  Dtype  \n",
            "---  ------                    --------------  -----  \n",
            " 0   ClientPeriod              5282 non-null   int64  \n",
            " 1   MonthlySpending           5282 non-null   float64\n",
            " 2   TotalSpent                5282 non-null   object \n",
            " 3   Sex                       5282 non-null   object \n",
            " 4   IsSeniorCitizen           5282 non-null   int64  \n",
            " 5   HasPartner                5282 non-null   object \n",
            " 6   HasChild                  5282 non-null   object \n",
            " 7   HasPhoneService           5282 non-null   object \n",
            " 8   HasMultiplePhoneNumbers   5282 non-null   object \n",
            " 9   HasInternetService        5282 non-null   object \n",
            " 10  HasOnlineSecurityService  5282 non-null   object \n",
            " 11  HasOnlineBackup           5282 non-null   object \n",
            " 12  HasDeviceProtection       5282 non-null   object \n",
            " 13  HasTechSupportAccess      5282 non-null   object \n",
            " 14  HasOnlineTV               5282 non-null   object \n",
            " 15  HasMovieSubscription      5282 non-null   object \n",
            " 16  HasContractPhone          5282 non-null   object \n",
            " 17  IsBillingPaperless        5282 non-null   object \n",
            " 18  PaymentMethod             5282 non-null   object \n",
            " 19  Churn                     5282 non-null   int64  \n",
            "dtypes: float64(1), int64(3), object(16)\n",
            "memory usage: 825.4+ KB\n"
          ]
        }
      ],
      "source": [
        "data.info()"
      ]
    },
    {
      "cell_type": "code",
      "execution_count": 7,
      "metadata": {},
      "outputs": [
        {
          "name": "stdout",
          "output_type": "stream",
          "text": [
            "<class 'pandas.core.frame.DataFrame'>\n",
            "RangeIndex: 5282 entries, 0 to 5281\n",
            "Data columns (total 3 columns):\n",
            " #   Column           Non-Null Count  Dtype  \n",
            "---  ------           --------------  -----  \n",
            " 0   ClientPeriod     5282 non-null   int64  \n",
            " 1   MonthlySpending  5282 non-null   float64\n",
            " 2   TotalSpent       5282 non-null   object \n",
            "dtypes: float64(1), int64(1), object(1)\n",
            "memory usage: 123.9+ KB\n"
          ]
        }
      ],
      "source": [
        "data[num_cols].info()"
      ]
    },
    {
      "cell_type": "markdown",
      "metadata": {},
      "source": [
        "Найдены несколько пробелов, их необходимо устранить."
      ]
    },
    {
      "cell_type": "code",
      "execution_count": 8,
      "metadata": {},
      "outputs": [],
      "source": [
        "def remove_whitespaces(row):\n",
        "    try:\n",
        "        row = float(row)\n",
        "        return row\n",
        "    except ValueError:\n",
        "        return 0.\n",
        "\n",
        "data['TotalSpent'] = data['TotalSpent'].apply(remove_whitespaces)"
      ]
    },
    {
      "cell_type": "markdown",
      "metadata": {},
      "source": [
        "Пропусков больше не видно. Преобразуем два выявленных некоректных признаков."
      ]
    },
    {
      "cell_type": "code",
      "execution_count": 9,
      "metadata": {},
      "outputs": [
        {
          "data": {
            "text/plain": [
              "ClientPeriod                0\n",
              "MonthlySpending             0\n",
              "TotalSpent                  0\n",
              "Sex                         0\n",
              "IsSeniorCitizen             0\n",
              "HasPartner                  0\n",
              "HasChild                    0\n",
              "HasPhoneService             0\n",
              "HasMultiplePhoneNumbers     0\n",
              "HasInternetService          0\n",
              "HasOnlineSecurityService    0\n",
              "HasOnlineBackup             0\n",
              "HasDeviceProtection         0\n",
              "HasTechSupportAccess        0\n",
              "HasOnlineTV                 0\n",
              "HasMovieSubscription        0\n",
              "HasContractPhone            0\n",
              "IsBillingPaperless          0\n",
              "PaymentMethod               0\n",
              "Churn                       0\n",
              "dtype: int64"
            ]
          },
          "execution_count": 9,
          "metadata": {},
          "output_type": "execute_result"
        }
      ],
      "source": [
        "data.isna().sum()"
      ]
    },
    {
      "cell_type": "markdown",
      "metadata": {
        "id": "dK370bPCEEZD"
      },
      "source": [
        "## Анализ данных (3 балла)\n",
        "\n",
        "1) Для численных призанков постройте гистограмму (*plt.hist(...)*) или boxplot (*plt.boxplot(...)*). Для категориальных посчитайте количество каждого значения для каждого признака. Для каждой колонки надо сделать *data.value_counts()* и построить bar диаграммы *plt.bar(...)* или круговые диаграммы *plt.pie(...)* (хорошо, елси вы сможете это сделать на одном гарфике с помощью *plt.subplots(...)*). \n",
        "\n",
        "2) Посмотрите на распределение целевой переменной и скажите, являются ли классы несбалансированными.\n",
        "\n",
        "3) (Если будет желание) Поиграйте с разными библиотеками для визуализации - *sns*, *pandas_visual_analysis*, etc.\n",
        "\n",
        "Второй пункт очень важен, потому что существуют задачи классификации с несбалансированными классами. Например, это может значить, что в датасете намного больше примеров 0 класса. В таких случаях нужно 1) не использовать accuracy как метрику 2) использовать методы борьбы с imbalanced dataset (обычно если датасет сильно несбалансирован, т.е. класса 1 в 20 раз меньше класса 0)."
      ]
    },
    {
      "cell_type": "code",
      "execution_count": 10,
      "metadata": {
        "id": "NZkbgFJZEEZE"
      },
      "outputs": [
        {
          "data": {
            "text/plain": [
              "array([[<AxesSubplot:title={'center':'ClientPeriod'}>,\n",
              "        <AxesSubplot:title={'center':'MonthlySpending'}>],\n",
              "       [<AxesSubplot:title={'center':'TotalSpent'}>, <AxesSubplot:>]],\n",
              "      dtype=object)"
            ]
          },
          "execution_count": 10,
          "metadata": {},
          "output_type": "execute_result"
        },
        {
          "data": {
            "image/png": "[encoded data removed]",
            "text/plain": [
              "<Figure size 1440x576 with 4 Axes>"
            ]
          },
          "metadata": {
            "needs_background": "light"
          },
          "output_type": "display_data"
        }
      ],
      "source": [
        "data.hist(column=num_cols, figsize=(20, 8), bins = 20)"
      ]
    },
    {
      "cell_type": "code",
      "execution_count": 11,
      "metadata": {},
      "outputs": [
        {
          "data": {
            "text/plain": [
              "<AxesSubplot:>"
            ]
          },
          "execution_count": 11,
          "metadata": {},
          "output_type": "execute_result"
        },
        {
          "data": {
            "image/png": "[encoded data removed]",
            "text/plain": [
              "<Figure size 1008x720 with 1 Axes>"
            ]
          },
          "metadata": {
            "needs_background": "light"
          },
          "output_type": "display_data"
        }
      ],
      "source": [
        "data.boxplot(column=num_cols, figsize=(14, 10))"
      ]
    },
    {
      "cell_type": "code",
      "execution_count": 12,
      "metadata": {},
      "outputs": [
        {
          "name": "stderr",
          "output_type": "stream",
          "text": [
            "<ipython-input-12-8b11079211ea>:8: UserWarning: FixedFormatter should only be used together with FixedLocator\n",
            "  ax[i].set_xticklabels(col_values.index, rotation = 30)\n",
            "<ipython-input-12-8b11079211ea>:12: UserWarning: Matplotlib is currently using module://ipykernel.pylab.backend_inline, which is a non-GUI backend, so cannot show the figure.\n",
            "  fig.show()\n"
          ]
        },
        {
          "data": {
            "image/png": "[encoded data removed]",
            "text/plain": [
              "<Figure size 1296x1296 with 16 Axes>"
            ]
          },
          "metadata": {
            "needs_background": "light"
          },
          "output_type": "display_data"
        }
      ],
      "source": [
        "fig, ax = plt.subplots(4, 4, figsize=(18,18))\n",
        "ax = ax.ravel()\n",
        "\n",
        "for i, col in enumerate(cat_cols):\n",
        "  ax[i].set_title(col)\n",
        "  col_values = data[col].value_counts()\n",
        "  ax[i].bar(col_values.index, col_values.values)\n",
        "  ax[i].set_xticklabels(col_values.index, rotation = 30)\n",
        "  \n",
        "\n",
        "plt.subplots_adjust(hspace = 0.5)\n",
        "fig.show()"
      ]
    },
    {
      "cell_type": "markdown",
      "metadata": {},
      "source": [
        "Заметим, что масштаб разный, поэтому для применения модлелей придется их отмасштабировать."
      ]
    },
    {
      "cell_type": "code",
      "execution_count": 13,
      "metadata": {},
      "outputs": [
        {
          "data": {
            "text/plain": [
              "<BarContainer object of 2 artists>"
            ]
          },
          "execution_count": 13,
          "metadata": {},
          "output_type": "execute_result"
        },
        {
          "data": {
            "image/png": "[encoded data removed]",
            "text/plain": [
              "<Figure size 216x360 with 1 Axes>"
            ]
          },
          "metadata": {
            "needs_background": "light"
          },
          "output_type": "display_data"
        }
      ],
      "source": [
        "fig = plt.figure(figsize = (3, 5))\n",
        "ax0 = fig.add_subplot(111)\n",
        "target_value = data[target_col].value_counts()\n",
        "ax0.bar(target_value.index, target_value.values)"
      ]
    },
    {
      "cell_type": "code",
      "execution_count": 14,
      "metadata": {},
      "outputs": [
        {
          "data": {
            "text/plain": [
              "0    3898\n",
              "1    1384\n",
              "Name: Churn, dtype: int64"
            ]
          },
          "execution_count": 14,
          "metadata": {},
          "output_type": "execute_result"
        }
      ],
      "source": [
        "target_value"
      ]
    },
    {
      "cell_type": "markdown",
      "metadata": {
        "id": "zg60u3QDEEZH"
      },
      "source": [
        "(Дополнительно) Если вы нашли какие-то ошибки в данных или выбросы, то можете их убрать. Тут можно поэксперементировать с обработкой данных как угодно, но не за баллы."
      ]
    },
    {
      "cell_type": "code",
      "execution_count": 15,
      "metadata": {
        "id": "fwfksF1gEEZI"
      },
      "outputs": [],
      "source": [
        "# YOUR CODE"
      ]
    },
    {
      "cell_type": "markdown",
      "metadata": {
        "id": "DviiJd8REEZK"
      },
      "source": [
        "## Применение линейных моделей (3 балла)\n",
        "\n",
        "1) Обработайте данные для того, чтобы к ним можно было применить LogisticRegression. Т.е. отнормируйте числовые признаки, а категориальные закодируйте с помощью one-hot-encoding'а. \n",
        "\n",
        "2) С помощью кроссвалидации или разделения на train/valid выборку протестируйте разные значения гиперпараметра C и выберите лучший (можно тестировать С=100, 10, 1, 0.1, 0.01, 0.001) по метрике ROC-AUC. \n",
        "\n",
        "Если вы разделяете на train/valid, то используйте LogisticRegressionCV. Он сам при вызове .fit() подберет параметр С. (не забудьте передать scroing='roc_auc', чтобы при кроссвалидации сравнивались значения этой метрики, и refit=True, чтобы при потом модель обучилась на всем датасете с лучшим параметром C). \n",
        "\n",
        "\n",
        "(более сложный вариант) Если вы будете использовать кроссвалидацию, то преобразования данных и LogisticRegression нужно соединить в один Pipeline с помощью make_pipeline, как это делалось во втором семинаре. Потом pipeline надо передать в GridSearchCV. Для one-hot-encoding'a можно испльзовать комбинацию LabelEncoder + OneHotEncoder (сначала превращаем строчки в числа, а потом числа првращаем в one-hot вектора.)"
      ]
    },
    {
      "cell_type": "code",
      "execution_count": 16,
      "metadata": {
        "id": "xHCLDmwqEEZL"
      },
      "outputs": [],
      "source": [
        "from sklearn.linear_model import LogisticRegression, LogisticRegressionCV\n",
        "from sklearn.model_selection import train_test_split, GridSearchCV\n",
        "from sklearn.preprocessing import StandardScaler, RobustScaler, LabelEncoder, OneHotEncoder\n",
        "from sklearn.pipeline import make_pipeline, Pipeline\n",
        "from sklearn.compose import ColumnTransformer"
      ]
    },
    {
      "cell_type": "code",
      "execution_count": 31,
      "metadata": {},
      "outputs": [],
      "source": [
        "dum_data = pd.get_dummies(data[cat_cols])"
      ]
    },
    {
      "cell_type": "code",
      "execution_count": 32,
      "metadata": {},
      "outputs": [],
      "source": [
        "X = data[num_cols + cat_cols]\n",
        "y = data[target_col]\n",
        "X_train, X_test, y_train, y_test = train_test_split(X, y, test_size=0.05)"
      ]
    },
    {
      "cell_type": "code",
      "execution_count": 28,
      "metadata": {},
      "outputs": [],
      "source": [
        "prepare_pipeline = ColumnTransformer([\n",
        "        (\"num\", StandardScaler(), num_cols),\n",
        "        (\"cat\", OneHotEncoder(), cat_cols)\n",
        "    ])\n",
        "\n",
        "full_pipeline = Pipeline([\n",
        "        (\"preparation\", prepare_pipeline),\n",
        "        (\"linear\", LogisticRegression(solver = 'liblinear', random_state=42))\n",
        "    ])"
      ]
    },
    {
      "cell_type": "code",
      "execution_count": 29,
      "metadata": {},
      "outputs": [],
      "source": [
        "C_values = [120, 100, 10, 1, 0.1, 0.01, 0.001]\n",
        "\n",
        "param_grid = [\n",
        "        {'linear__penalty':['l1', 'l2'],\n",
        "         'linear__C':C_values\n",
        "         }\n",
        "    ]"
      ]
    },
    {
      "cell_type": "code",
      "execution_count": 30,
      "metadata": {},
      "outputs": [],
      "source": [
        "grid_search = GridSearchCV(full_pipeline, \n",
        "                          param_grid, \n",
        "                          scoring='roc_auc', \n",
        "                          verbose=4)"
      ]
    },
    {
      "cell_type": "code",
      "execution_count": 33,
      "metadata": {},
      "outputs": [
        {
          "name": "stdout",
          "output_type": "stream",
          "text": [
            "Fitting 5 folds for each of 14 candidates, totalling 70 fits\n",
            "[CV 1/5] END .linear__C=120, linear__penalty=l1;, score=0.842 total time=   0.2s\n",
            "[CV 2/5] END .linear__C=120, linear__penalty=l1;, score=0.872 total time=   0.4s\n",
            "[CV 3/5] END .linear__C=120, linear__penalty=l1;, score=0.855 total time=   0.4s\n",
            "[CV 4/5] END .linear__C=120, linear__penalty=l1;, score=0.831 total time=   0.1s\n",
            "[CV 5/5] END .linear__C=120, linear__penalty=l1;, score=0.813 total time=   0.1s\n",
            "[CV 1/5] END .linear__C=120, linear__penalty=l2;, score=0.842 total time=   0.0s\n",
            "[CV 2/5] END .linear__C=120, linear__penalty=l2;, score=0.872 total time=   0.0s\n",
            "[CV 3/5] END .linear__C=120, linear__penalty=l2;, score=0.855 total time=   0.0s\n",
            "[CV 4/5] END .linear__C=120, linear__penalty=l2;, score=0.831 total time=   0.0s\n",
            "[CV 5/5] END .linear__C=120, linear__penalty=l2;, score=0.813 total time=   0.0s\n",
            "[CV 1/5] END .linear__C=100, linear__penalty=l1;, score=0.842 total time=   0.4s\n",
            "[CV 2/5] END .linear__C=100, linear__penalty=l1;, score=0.872 total time=   0.1s\n",
            "[CV 3/5] END .linear__C=100, linear__penalty=l1;, score=0.855 total time=   0.2s\n",
            "[CV 4/5] END .linear__C=100, linear__penalty=l1;, score=0.831 total time=   0.1s\n",
            "[CV 5/5] END .linear__C=100, linear__penalty=l1;, score=0.813 total time=   0.1s\n",
            "[CV 1/5] END .linear__C=100, linear__penalty=l2;, score=0.842 total time=   0.0s\n",
            "[CV 2/5] END .linear__C=100, linear__penalty=l2;, score=0.872 total time=   0.0s\n",
            "[CV 3/5] END .linear__C=100, linear__penalty=l2;, score=0.855 total time=   0.0s\n",
            "[CV 4/5] END .linear__C=100, linear__penalty=l2;, score=0.831 total time=   0.0s\n",
            "[CV 5/5] END .linear__C=100, linear__penalty=l2;, score=0.813 total time=   0.0s\n",
            "[CV 1/5] END ..linear__C=10, linear__penalty=l1;, score=0.842 total time=   0.1s\n",
            "[CV 2/5] END ..linear__C=10, linear__penalty=l1;, score=0.872 total time=   0.2s\n",
            "[CV 3/5] END ..linear__C=10, linear__penalty=l1;, score=0.855 total time=   0.3s\n",
            "[CV 4/5] END ..linear__C=10, linear__penalty=l1;, score=0.831 total time=   0.3s\n",
            "[CV 5/5] END ..linear__C=10, linear__penalty=l1;, score=0.813 total time=   0.1s\n",
            "[CV 1/5] END ..linear__C=10, linear__penalty=l2;, score=0.842 total time=   0.0s\n",
            "[CV 2/5] END ..linear__C=10, linear__penalty=l2;, score=0.872 total time=   0.0s\n",
            "[CV 3/5] END ..linear__C=10, linear__penalty=l2;, score=0.855 total time=   0.0s\n",
            "[CV 4/5] END ..linear__C=10, linear__penalty=l2;, score=0.831 total time=   0.0s\n",
            "[CV 5/5] END ..linear__C=10, linear__penalty=l2;, score=0.813 total time=   0.0s\n",
            "[CV 1/5] END ...linear__C=1, linear__penalty=l1;, score=0.841 total time=   0.0s\n",
            "[CV 2/5] END ...linear__C=1, linear__penalty=l1;, score=0.871 total time=   0.0s\n",
            "[CV 3/5] END ...linear__C=1, linear__penalty=l1;, score=0.855 total time=   0.0s\n",
            "[CV 4/5] END ...linear__C=1, linear__penalty=l1;, score=0.831 total time=   0.0s\n",
            "[CV 5/5] END ...linear__C=1, linear__penalty=l1;, score=0.813 total time=   0.1s\n",
            "[CV 1/5] END ...linear__C=1, linear__penalty=l2;, score=0.841 total time=   0.0s\n",
            "[CV 2/5] END ...linear__C=1, linear__penalty=l2;, score=0.872 total time=   0.0s\n",
            "[CV 3/5] END ...linear__C=1, linear__penalty=l2;, score=0.855 total time=   0.0s\n",
            "[CV 4/5] END ...linear__C=1, linear__penalty=l2;, score=0.831 total time=   0.0s\n",
            "[CV 5/5] END ...linear__C=1, linear__penalty=l2;, score=0.813 total time=   0.0s\n",
            "[CV 1/5] END .linear__C=0.1, linear__penalty=l1;, score=0.839 total time=   0.0s\n",
            "[CV 2/5] END .linear__C=0.1, linear__penalty=l1;, score=0.868 total time=   0.0s\n",
            "[CV 3/5] END .linear__C=0.1, linear__penalty=l1;, score=0.854 total time=   0.0s\n",
            "[CV 4/5] END .linear__C=0.1, linear__penalty=l1;, score=0.829 total time=   0.0s\n",
            "[CV 5/5] END .linear__C=0.1, linear__penalty=l1;, score=0.813 total time=   0.0s\n",
            "[CV 1/5] END .linear__C=0.1, linear__penalty=l2;, score=0.839 total time=   0.0s\n",
            "[CV 2/5] END .linear__C=0.1, linear__penalty=l2;, score=0.870 total time=   0.0s\n",
            "[CV 3/5] END .linear__C=0.1, linear__penalty=l2;, score=0.853 total time=   0.0s\n",
            "[CV 4/5] END .linear__C=0.1, linear__penalty=l2;, score=0.829 total time=   0.0s\n",
            "[CV 5/5] END .linear__C=0.1, linear__penalty=l2;, score=0.814 total time=   0.0s\n",
            "[CV 1/5] END linear__C=0.01, linear__penalty=l1;, score=0.818 total time=   0.0s\n",
            "[CV 2/5] END linear__C=0.01, linear__penalty=l1;, score=0.846 total time=   0.0s\n",
            "[CV 3/5] END linear__C=0.01, linear__penalty=l1;, score=0.840 total time=   0.0s\n",
            "[CV 4/5] END linear__C=0.01, linear__penalty=l1;, score=0.808 total time=   0.0s\n",
            "[CV 5/5] END linear__C=0.01, linear__penalty=l1;, score=0.786 total time=   0.0s\n",
            "[CV 1/5] END linear__C=0.01, linear__penalty=l2;, score=0.835 total time=   0.0s\n",
            "[CV 2/5] END linear__C=0.01, linear__penalty=l2;, score=0.867 total time=   0.0s\n",
            "[CV 3/5] END linear__C=0.01, linear__penalty=l2;, score=0.852 total time=   0.0s\n",
            "[CV 4/5] END linear__C=0.01, linear__penalty=l2;, score=0.827 total time=   0.0s\n",
            "[CV 5/5] END linear__C=0.01, linear__penalty=l2;, score=0.814 total time=   0.0s\n",
            "[CV 1/5] END linear__C=0.001, linear__penalty=l1;, score=0.500 total time=   0.0s\n",
            "[CV 2/5] END linear__C=0.001, linear__penalty=l1;, score=0.500 total time=   0.0s\n",
            "[CV 3/5] END linear__C=0.001, linear__penalty=l1;, score=0.500 total time=   0.0s\n",
            "[CV 4/5] END linear__C=0.001, linear__penalty=l1;, score=0.500 total time=   0.0s\n",
            "[CV 5/5] END linear__C=0.001, linear__penalty=l1;, score=0.500 total time=   0.0s\n",
            "[CV 1/5] END linear__C=0.001, linear__penalty=l2;, score=0.831 total time=   0.0s\n",
            "[CV 2/5] END linear__C=0.001, linear__penalty=l2;, score=0.863 total time=   0.0s\n",
            "[CV 3/5] END linear__C=0.001, linear__penalty=l2;, score=0.851 total time=   0.0s\n",
            "[CV 4/5] END linear__C=0.001, linear__penalty=l2;, score=0.823 total time=   0.0s\n",
            "[CV 5/5] END linear__C=0.001, linear__penalty=l2;, score=0.812 total time=   0.0s\n"
          ]
        },
        {
          "data": {
            "text/plain": [
              "GridSearchCV(estimator=Pipeline(steps=[('preparation',\n",
              "                                        ColumnTransformer(transformers=[('num',\n",
              "                                                                         StandardScaler(),\n",
              "                                                                         ['ClientPeriod',\n",
              "                                                                          'MonthlySpending',\n",
              "                                                                          'TotalSpent']),\n",
              "                                                                        ('cat',\n",
              "                                                                         OneHotEncoder(),\n",
              "                                                                         ['Sex',\n",
              "                                                                          'IsSeniorCitizen',\n",
              "                                                                          'HasPartner',\n",
              "                                                                          'HasChild',\n",
              "                                                                          'HasPhoneService',\n",
              "                                                                          'HasMultiplePhoneNumbers',\n",
              "                                                                          'HasInternetService',\n",
              "                                                                          'HasOnlineSecurityService',\n",
              "                                                                          'HasOnlineBackup',\n",
              "                                                                          'HasDeviceProtection',\n",
              "                                                                          'HasTechSupportAccess',\n",
              "                                                                          'HasOnlineTV',\n",
              "                                                                          'HasMovieSubscription',\n",
              "                                                                          'HasContractPhone',\n",
              "                                                                          'IsBillingPaperless',\n",
              "                                                                          'PaymentMethod'])])),\n",
              "                                       ('linear',\n",
              "                                        LogisticRegression(random_state=42,\n",
              "                                                           solver='liblinear'))]),\n",
              "             param_grid=[{'linear__C': [120, 100, 10, 1, 0.1, 0.01, 0.001],\n",
              "                          'linear__penalty': ['l1', 'l2']}],\n",
              "             scoring='roc_auc', verbose=4)"
            ]
          },
          "execution_count": 33,
          "metadata": {},
          "output_type": "execute_result"
        }
      ],
      "source": [
        "grid_search.fit(X_train, y_train)"
      ]
    },
    {
      "cell_type": "code",
      "execution_count": 35,
      "metadata": {},
      "outputs": [
        {
          "data": {
            "text/plain": [
              "{'linear__C': 120, 'linear__penalty': 'l1'}"
            ]
          },
          "execution_count": 35,
          "metadata": {},
          "output_type": "execute_result"
        }
      ],
      "source": [
        "grid_search.best_params_"
      ]
    },
    {
      "cell_type": "code",
      "execution_count": 36,
      "metadata": {},
      "outputs": [
        {
          "data": {
            "text/plain": [
              "0.8427103218493665"
            ]
          },
          "execution_count": 36,
          "metadata": {},
          "output_type": "execute_result"
        }
      ],
      "source": [
        "grid_search.best_score_"
      ]
    },
    {
      "cell_type": "markdown",
      "metadata": {},
      "source": [
        "Лучший roc_auc_score равен 0.8427103218493665."
      ]
    },
    {
      "cell_type": "markdown",
      "metadata": {},
      "source": [
        "## Применение градиентного бустинга (2 балла)\n",
        "\n",
        "Если вы хотите получить баллы за точный ответ, то стоит попробовать градиентный бустинг. Часто градиентный бустинг с дефолтными параметрами даст вам 80% результата за 0% усилий.\n",
        "\n",
        "Мы будем использовать catboost, поэтому нам не надо кодировать категориальные признаки. catboost сделает это сам (в .fit() надо передать cat_features=cat_cols). А численные признаки нормировать для моделей, основанных на деревьях не нужно.\n",
        "\n",
        "1) Разделите выборку на train/valid. Протестируйте catboost cо стандартными параметрами.\n",
        "\n",
        "2) Протестируйте разные занчения параметроа количества деревьев и learning_rate'а и выберите лучшую по метрике ROC-AUC комбинацию. \n",
        "\n",
        "(Дополнительно) Есть некоторые сложности с тем, чтобы использовать CatBoostClassifier вместе с GridSearchCV, поэтому мы не просим использовать кроссвалидацию. Но можете попробовать)"
      ]
    },
    {
      "cell_type": "code",
      "execution_count": 17,
      "metadata": {},
      "outputs": [],
      "source": [
        "std_scaler = StandardScaler()\n",
        "log_reg_cv = LogisticRegressionCV(scoring='roc_auc')"
      ]
    },
    {
      "cell_type": "code",
      "execution_count": 24,
      "metadata": {},
      "outputs": [
        {
          "name": "stdout",
          "output_type": "stream",
          "text": [
            "\n",
            "bestTest = 0.858988534\n",
            "bestIteration = 175\n",
            "\n",
            "Metric AUC is not calculated on train by default. To calculate this metric on train, add hints=skip_train~false to metric parameters.\n",
            "0:\tloss: 0.8589885\tbest: 0.8589885 (0)\ttotal: 2.14s\tremaining: 2m 51s\n",
            "\n",
            "bestTest = 0.858215602\n",
            "bestIteration = 186\n",
            "\n",
            "Metric AUC is not calculated on train by default. To calculate this metric on train, add hints=skip_train~false to metric parameters.\n",
            "1:\tloss: 0.8582156\tbest: 0.8589885 (0)\ttotal: 4.25s\tremaining: 2m 47s\n",
            "\n",
            "bestTest = 0.8593289312\n",
            "bestIteration = 158\n",
            "\n",
            "Metric AUC is not calculated on train by default. To calculate this metric on train, add hints=skip_train~false to metric parameters.\n",
            "2:\tloss: 0.8593289\tbest: 0.8593289 (2)\ttotal: 6.12s\tremaining: 2m 39s\n",
            "\n",
            "bestTest = 0.858988534\n",
            "bestIteration = 175\n",
            "\n",
            "Metric AUC is not calculated on train by default. To calculate this metric on train, add hints=skip_train~false to metric parameters.\n",
            "3:\tloss: 0.8589885\tbest: 0.8593289 (2)\ttotal: 7.74s\tremaining: 2m 29s\n",
            "\n",
            "bestTest = 0.8582719083\n",
            "bestIteration = 188\n",
            "\n",
            "Metric AUC is not calculated on train by default. To calculate this metric on train, add hints=skip_train~false to metric parameters.\n",
            "4:\tloss: 0.8582719\tbest: 0.8593289 (2)\ttotal: 9.36s\tremaining: 2m 22s\n",
            "\n",
            "bestTest = 0.8593289312\n",
            "bestIteration = 158\n",
            "\n",
            "Metric AUC is not calculated on train by default. To calculate this metric on train, add hints=skip_train~false to metric parameters.\n",
            "5:\tloss: 0.8593289\tbest: 0.8593289 (2)\ttotal: 11.2s\tremaining: 2m 19s\n",
            "\n",
            "bestTest = 0.858988534\n",
            "bestIteration = 175\n",
            "\n",
            "Metric AUC is not calculated on train by default. To calculate this metric on train, add hints=skip_train~false to metric parameters.\n",
            "6:\tloss: 0.8589885\tbest: 0.8593289 (2)\ttotal: 12.6s\tremaining: 2m 12s\n",
            "\n",
            "bestTest = 0.8582719083\n",
            "bestIteration = 188\n",
            "\n",
            "Metric AUC is not calculated on train by default. To calculate this metric on train, add hints=skip_train~false to metric parameters.\n",
            "7:\tloss: 0.8582719\tbest: 0.8593289 (2)\ttotal: 14.1s\tremaining: 2m 8s\n",
            "\n",
            "bestTest = 0.8593289312\n",
            "bestIteration = 158\n",
            "\n",
            "Metric AUC is not calculated on train by default. To calculate this metric on train, add hints=skip_train~false to metric parameters.\n",
            "8:\tloss: 0.8593289\tbest: 0.8593289 (2)\ttotal: 15.5s\tremaining: 2m 3s\n",
            "\n",
            "bestTest = 0.8576755733\n",
            "bestIteration = 160\n",
            "\n",
            "Metric AUC is not calculated on train by default. To calculate this metric on train, add hints=skip_train~false to metric parameters.\n",
            "9:\tloss: 0.8576756\tbest: 0.8593289 (2)\ttotal: 17.4s\tremaining: 2m 3s\n",
            "\n",
            "bestTest = 0.8563600532\n",
            "bestIteration = 137\n",
            "\n",
            "Metric AUC is not calculated on train by default. To calculate this metric on train, add hints=skip_train~false to metric parameters.\n",
            "10:\tloss: 0.8563601\tbest: 0.8593289 (2)\ttotal: 19.4s\tremaining: 2m 3s\n",
            "\n",
            "bestTest = 0.8570357289\n",
            "bestIteration = 182\n",
            "\n",
            "Metric AUC is not calculated on train by default. To calculate this metric on train, add hints=skip_train~false to metric parameters.\n",
            "11:\tloss: 0.8570357\tbest: 0.8593289 (2)\ttotal: 21.8s\tremaining: 2m 5s\n",
            "\n",
            "bestTest = 0.8576755733\n",
            "bestIteration = 160\n",
            "\n",
            "Metric AUC is not calculated on train by default. To calculate this metric on train, add hints=skip_train~false to metric parameters.\n",
            "12:\tloss: 0.8576756\tbest: 0.8593289 (2)\ttotal: 24.5s\tremaining: 2m 8s\n",
            "\n",
            "bestTest = 0.8563600532\n",
            "bestIteration = 137\n",
            "\n",
            "Metric AUC is not calculated on train by default. To calculate this metric on train, add hints=skip_train~false to metric parameters.\n",
            "13:\tloss: 0.8563601\tbest: 0.8593289 (2)\ttotal: 27.2s\tremaining: 2m 9s\n",
            "\n",
            "bestTest = 0.8570357289\n",
            "bestIteration = 182\n",
            "\n",
            "Metric AUC is not calculated on train by default. To calculate this metric on train, add hints=skip_train~false to metric parameters.\n",
            "14:\tloss: 0.8570357\tbest: 0.8593289 (2)\ttotal: 29.4s\tremaining: 2m 9s\n",
            "\n",
            "bestTest = 0.8576755733\n",
            "bestIteration = 160\n",
            "\n",
            "Metric AUC is not calculated on train by default. To calculate this metric on train, add hints=skip_train~false to metric parameters.\n",
            "15:\tloss: 0.8576756\tbest: 0.8593289 (2)\ttotal: 31.8s\tremaining: 2m 9s\n",
            "\n",
            "bestTest = 0.8563600532\n",
            "bestIteration = 137\n",
            "\n",
            "Metric AUC is not calculated on train by default. To calculate this metric on train, add hints=skip_train~false to metric parameters.\n",
            "16:\tloss: 0.8563601\tbest: 0.8593289 (2)\ttotal: 34s\tremaining: 2m 7s\n",
            "\n",
            "bestTest = 0.8570382883\n",
            "bestIteration = 192\n",
            "\n",
            "Metric AUC is not calculated on train by default. To calculate this metric on train, add hints=skip_train~false to metric parameters.\n",
            "17:\tloss: 0.8570383\tbest: 0.8593289 (2)\ttotal: 36.1s\tremaining: 2m 6s\n",
            "\n",
            "bestTest = 0.8570280508\n",
            "bestIteration = 162\n",
            "\n",
            "Metric AUC is not calculated on train by default. To calculate this metric on train, add hints=skip_train~false to metric parameters.\n",
            "18:\tloss: 0.8570281\tbest: 0.8593289 (2)\ttotal: 39.2s\tremaining: 2m 7s\n",
            "\n",
            "bestTest = 0.8565776003\n",
            "bestIteration = 123\n",
            "\n",
            "Metric AUC is not calculated on train by default. To calculate this metric on train, add hints=skip_train~false to metric parameters.\n",
            "19:\tloss: 0.8565776\tbest: 0.8593289 (2)\ttotal: 42.8s\tremaining: 2m 10s\n",
            "\n",
            "bestTest = 0.857964783\n",
            "bestIteration = 186\n",
            "\n",
            "Metric AUC is not calculated on train by default. To calculate this metric on train, add hints=skip_train~false to metric parameters.\n",
            "20:\tloss: 0.8579648\tbest: 0.8593289 (2)\ttotal: 46.3s\tremaining: 2m 12s\n",
            "\n",
            "bestTest = 0.8570280508\n",
            "bestIteration = 162\n",
            "\n",
            "Metric AUC is not calculated on train by default. To calculate this metric on train, add hints=skip_train~false to metric parameters.\n",
            "21:\tloss: 0.8570281\tbest: 0.8593289 (2)\ttotal: 50s\tremaining: 2m 14s\n",
            "\n",
            "bestTest = 0.8565776003\n",
            "bestIteration = 123\n",
            "\n",
            "Metric AUC is not calculated on train by default. To calculate this metric on train, add hints=skip_train~false to metric parameters.\n",
            "22:\tloss: 0.8565776\tbest: 0.8593289 (2)\ttotal: 53.6s\tremaining: 2m 15s\n",
            "\n",
            "bestTest = 0.8580108518\n",
            "bestIteration = 187\n",
            "\n",
            "Metric AUC is not calculated on train by default. To calculate this metric on train, add hints=skip_train~false to metric parameters.\n",
            "23:\tloss: 0.8580109\tbest: 0.8593289 (2)\ttotal: 56.8s\tremaining: 2m 14s\n",
            "\n",
            "bestTest = 0.8570280508\n",
            "bestIteration = 162\n",
            "\n",
            "Metric AUC is not calculated on train by default. To calculate this metric on train, add hints=skip_train~false to metric parameters.\n",
            "24:\tloss: 0.8570281\tbest: 0.8593289 (2)\ttotal: 1m\tremaining: 2m 15s\n",
            "\n",
            "bestTest = 0.8565776003\n",
            "bestIteration = 123\n",
            "\n",
            "Metric AUC is not calculated on train by default. To calculate this metric on train, add hints=skip_train~false to metric parameters.\n",
            "25:\tloss: 0.8565776\tbest: 0.8593289 (2)\ttotal: 1m 4s\tremaining: 2m 15s\n",
            "\n",
            "bestTest = 0.8580108518\n",
            "bestIteration = 187\n",
            "\n",
            "Metric AUC is not calculated on train by default. To calculate this metric on train, add hints=skip_train~false to metric parameters.\n",
            "26:\tloss: 0.8580109\tbest: 0.8593289 (2)\ttotal: 1m 7s\tremaining: 2m 15s\n",
            "\n",
            "bestTest = 0.858988534\n",
            "bestIteration = 175\n",
            "\n",
            "Metric AUC is not calculated on train by default. To calculate this metric on train, add hints=skip_train~false to metric parameters.\n",
            "27:\tloss: 0.8589885\tbest: 0.8593289 (2)\ttotal: 1m 9s\tremaining: 2m 11s\n",
            "\n",
            "bestTest = 0.858215602\n",
            "bestIteration = 186\n",
            "\n",
            "Metric AUC is not calculated on train by default. To calculate this metric on train, add hints=skip_train~false to metric parameters.\n",
            "28:\tloss: 0.8582156\tbest: 0.8593289 (2)\ttotal: 1m 11s\tremaining: 2m 7s\n",
            "\n",
            "bestTest = 0.8593289312\n",
            "bestIteration = 158\n",
            "\n",
            "Metric AUC is not calculated on train by default. To calculate this metric on train, add hints=skip_train~false to metric parameters.\n",
            "29:\tloss: 0.8593289\tbest: 0.8593289 (2)\ttotal: 1m 12s\tremaining: 2m 3s\n",
            "\n",
            "bestTest = 0.858988534\n",
            "bestIteration = 175\n",
            "\n",
            "Metric AUC is not calculated on train by default. To calculate this metric on train, add hints=skip_train~false to metric parameters.\n",
            "30:\tloss: 0.8589885\tbest: 0.8593289 (2)\ttotal: 1m 14s\tremaining: 2m\n",
            "\n",
            "bestTest = 0.8582719083\n",
            "bestIteration = 188\n",
            "\n",
            "Metric AUC is not calculated on train by default. To calculate this metric on train, add hints=skip_train~false to metric parameters.\n",
            "31:\tloss: 0.8582719\tbest: 0.8593289 (2)\ttotal: 1m 16s\tremaining: 1m 56s\n",
            "\n",
            "bestTest = 0.8593289312\n",
            "bestIteration = 158\n",
            "\n",
            "Metric AUC is not calculated on train by default. To calculate this metric on train, add hints=skip_train~false to metric parameters.\n",
            "32:\tloss: 0.8593289\tbest: 0.8593289 (2)\ttotal: 1m 17s\tremaining: 1m 53s\n",
            "\n",
            "bestTest = 0.858988534\n",
            "bestIteration = 175\n",
            "\n",
            "Metric AUC is not calculated on train by default. To calculate this metric on train, add hints=skip_train~false to metric parameters.\n",
            "33:\tloss: 0.8589885\tbest: 0.8593289 (2)\ttotal: 1m 19s\tremaining: 1m 49s\n",
            "\n",
            "bestTest = 0.8582719083\n",
            "bestIteration = 188\n",
            "\n",
            "Metric AUC is not calculated on train by default. To calculate this metric on train, add hints=skip_train~false to metric parameters.\n",
            "34:\tloss: 0.8582719\tbest: 0.8593289 (2)\ttotal: 1m 21s\tremaining: 1m 46s\n",
            "\n",
            "bestTest = 0.8593289312\n",
            "bestIteration = 158\n",
            "\n",
            "Metric AUC is not calculated on train by default. To calculate this metric on train, add hints=skip_train~false to metric parameters.\n",
            "35:\tloss: 0.8593289\tbest: 0.8593289 (2)\ttotal: 1m 22s\tremaining: 1m 43s\n",
            "\n",
            "bestTest = 0.8576755733\n",
            "bestIteration = 160\n",
            "\n",
            "Metric AUC is not calculated on train by default. To calculate this metric on train, add hints=skip_train~false to metric parameters.\n",
            "36:\tloss: 0.8576756\tbest: 0.8593289 (2)\ttotal: 1m 25s\tremaining: 1m 41s\n",
            "\n",
            "bestTest = 0.8563600532\n",
            "bestIteration = 137\n",
            "\n",
            "Metric AUC is not calculated on train by default. To calculate this metric on train, add hints=skip_train~false to metric parameters.\n",
            "37:\tloss: 0.8563601\tbest: 0.8593289 (2)\ttotal: 1m 27s\tremaining: 1m 39s\n",
            "\n",
            "bestTest = 0.8570357289\n",
            "bestIteration = 182\n",
            "\n",
            "Metric AUC is not calculated on train by default. To calculate this metric on train, add hints=skip_train~false to metric parameters.\n",
            "38:\tloss: 0.8570357\tbest: 0.8593289 (2)\ttotal: 1m 30s\tremaining: 1m 37s\n",
            "\n",
            "bestTest = 0.8576755733\n",
            "bestIteration = 160\n",
            "\n",
            "Metric AUC is not calculated on train by default. To calculate this metric on train, add hints=skip_train~false to metric parameters.\n",
            "39:\tloss: 0.8576756\tbest: 0.8593289 (2)\ttotal: 1m 32s\tremaining: 1m 34s\n",
            "\n",
            "bestTest = 0.8563600532\n",
            "bestIteration = 137\n",
            "\n",
            "Metric AUC is not calculated on train by default. To calculate this metric on train, add hints=skip_train~false to metric parameters.\n",
            "40:\tloss: 0.8563601\tbest: 0.8593289 (2)\ttotal: 1m 35s\tremaining: 1m 32s\n",
            "\n",
            "bestTest = 0.8570357289\n",
            "bestIteration = 182\n",
            "\n",
            "Metric AUC is not calculated on train by default. To calculate this metric on train, add hints=skip_train~false to metric parameters.\n",
            "41:\tloss: 0.8570357\tbest: 0.8593289 (2)\ttotal: 1m 37s\tremaining: 1m 30s\n",
            "\n",
            "bestTest = 0.8576755733\n",
            "bestIteration = 160\n",
            "\n",
            "Metric AUC is not calculated on train by default. To calculate this metric on train, add hints=skip_train~false to metric parameters.\n",
            "42:\tloss: 0.8576756\tbest: 0.8593289 (2)\ttotal: 1m 39s\tremaining: 1m 28s\n",
            "\n",
            "bestTest = 0.8563600532\n",
            "bestIteration = 137\n",
            "\n",
            "Metric AUC is not calculated on train by default. To calculate this metric on train, add hints=skip_train~false to metric parameters.\n",
            "43:\tloss: 0.8563601\tbest: 0.8593289 (2)\ttotal: 1m 41s\tremaining: 1m 25s\n",
            "\n",
            "bestTest = 0.8570382883\n",
            "bestIteration = 192\n",
            "\n",
            "Metric AUC is not calculated on train by default. To calculate this metric on train, add hints=skip_train~false to metric parameters.\n",
            "44:\tloss: 0.8570383\tbest: 0.8593289 (2)\ttotal: 1m 44s\tremaining: 1m 23s\n",
            "\n",
            "bestTest = 0.8570280508\n",
            "bestIteration = 162\n",
            "\n",
            "Metric AUC is not calculated on train by default. To calculate this metric on train, add hints=skip_train~false to metric parameters.\n",
            "45:\tloss: 0.8570281\tbest: 0.8593289 (2)\ttotal: 1m 47s\tremaining: 1m 22s\n",
            "\n",
            "bestTest = 0.8565776003\n",
            "bestIteration = 123\n",
            "\n",
            "Metric AUC is not calculated on train by default. To calculate this metric on train, add hints=skip_train~false to metric parameters.\n",
            "46:\tloss: 0.8565776\tbest: 0.8593289 (2)\ttotal: 1m 51s\tremaining: 1m 20s\n",
            "\n",
            "bestTest = 0.857964783\n",
            "bestIteration = 186\n",
            "\n",
            "Metric AUC is not calculated on train by default. To calculate this metric on train, add hints=skip_train~false to metric parameters.\n",
            "47:\tloss: 0.8579648\tbest: 0.8593289 (2)\ttotal: 1m 54s\tremaining: 1m 18s\n",
            "\n",
            "bestTest = 0.8570280508\n",
            "bestIteration = 162\n",
            "\n",
            "Metric AUC is not calculated on train by default. To calculate this metric on train, add hints=skip_train~false to metric parameters.\n",
            "48:\tloss: 0.8570281\tbest: 0.8593289 (2)\ttotal: 1m 58s\tremaining: 1m 17s\n",
            "\n",
            "bestTest = 0.8565776003\n",
            "bestIteration = 123\n",
            "\n",
            "Metric AUC is not calculated on train by default. To calculate this metric on train, add hints=skip_train~false to metric parameters.\n",
            "49:\tloss: 0.8565776\tbest: 0.8593289 (2)\ttotal: 2m 2s\tremaining: 1m 15s\n",
            "\n",
            "bestTest = 0.8580108518\n",
            "bestIteration = 187\n",
            "\n",
            "Metric AUC is not calculated on train by default. To calculate this metric on train, add hints=skip_train~false to metric parameters.\n",
            "50:\tloss: 0.8580109\tbest: 0.8593289 (2)\ttotal: 2m 6s\tremaining: 1m 14s\n",
            "\n",
            "bestTest = 0.8570280508\n",
            "bestIteration = 162\n",
            "\n",
            "Metric AUC is not calculated on train by default. To calculate this metric on train, add hints=skip_train~false to metric parameters.\n",
            "51:\tloss: 0.8570281\tbest: 0.8593289 (2)\ttotal: 2m 10s\tremaining: 1m 12s\n",
            "\n",
            "bestTest = 0.8565776003\n",
            "bestIteration = 123\n",
            "\n",
            "Metric AUC is not calculated on train by default. To calculate this metric on train, add hints=skip_train~false to metric parameters.\n",
            "52:\tloss: 0.8565776\tbest: 0.8593289 (2)\ttotal: 2m 14s\tremaining: 1m 11s\n",
            "\n",
            "bestTest = 0.8580108518\n",
            "bestIteration = 187\n",
            "\n",
            "Metric AUC is not calculated on train by default. To calculate this metric on train, add hints=skip_train~false to metric parameters.\n",
            "53:\tloss: 0.8580109\tbest: 0.8593289 (2)\ttotal: 2m 18s\tremaining: 1m 9s\n",
            "\n",
            "bestTest = 0.858988534\n",
            "bestIteration = 175\n",
            "\n",
            "Metric AUC is not calculated on train by default. To calculate this metric on train, add hints=skip_train~false to metric parameters.\n",
            "54:\tloss: 0.8589885\tbest: 0.8593289 (2)\ttotal: 2m 20s\tremaining: 1m 6s\n",
            "\n",
            "bestTest = 0.858215602\n",
            "bestIteration = 186\n",
            "\n",
            "Metric AUC is not calculated on train by default. To calculate this metric on train, add hints=skip_train~false to metric parameters.\n",
            "55:\tloss: 0.8582156\tbest: 0.8593289 (2)\ttotal: 2m 22s\tremaining: 1m 3s\n",
            "\n",
            "bestTest = 0.8593289312\n",
            "bestIteration = 158\n",
            "\n",
            "Metric AUC is not calculated on train by default. To calculate this metric on train, add hints=skip_train~false to metric parameters.\n",
            "56:\tloss: 0.8593289\tbest: 0.8593289 (2)\ttotal: 2m 24s\tremaining: 1m\n",
            "\n",
            "bestTest = 0.858988534\n",
            "bestIteration = 175\n",
            "\n",
            "Metric AUC is not calculated on train by default. To calculate this metric on train, add hints=skip_train~false to metric parameters.\n",
            "57:\tloss: 0.8589885\tbest: 0.8593289 (2)\ttotal: 2m 25s\tremaining: 57.8s\n",
            "\n",
            "bestTest = 0.8582719083\n",
            "bestIteration = 188\n",
            "\n",
            "Metric AUC is not calculated on train by default. To calculate this metric on train, add hints=skip_train~false to metric parameters.\n",
            "58:\tloss: 0.8582719\tbest: 0.8593289 (2)\ttotal: 2m 27s\tremaining: 55s\n",
            "\n",
            "bestTest = 0.8593289312\n",
            "bestIteration = 158\n",
            "\n",
            "Metric AUC is not calculated on train by default. To calculate this metric on train, add hints=skip_train~false to metric parameters.\n",
            "59:\tloss: 0.8593289\tbest: 0.8593289 (2)\ttotal: 2m 29s\tremaining: 52.3s\n",
            "\n",
            "bestTest = 0.858988534\n",
            "bestIteration = 175\n",
            "\n",
            "Metric AUC is not calculated on train by default. To calculate this metric on train, add hints=skip_train~false to metric parameters.\n",
            "60:\tloss: 0.8589885\tbest: 0.8593289 (2)\ttotal: 2m 31s\tremaining: 49.6s\n",
            "\n",
            "bestTest = 0.8582719083\n",
            "bestIteration = 188\n",
            "\n",
            "Metric AUC is not calculated on train by default. To calculate this metric on train, add hints=skip_train~false to metric parameters.\n",
            "61:\tloss: 0.8582719\tbest: 0.8593289 (2)\ttotal: 2m 33s\tremaining: 46.9s\n",
            "\n",
            "bestTest = 0.8593289312\n",
            "bestIteration = 158\n",
            "\n",
            "Metric AUC is not calculated on train by default. To calculate this metric on train, add hints=skip_train~false to metric parameters.\n",
            "62:\tloss: 0.8593289\tbest: 0.8593289 (2)\ttotal: 2m 34s\tremaining: 44.2s\n",
            "\n",
            "bestTest = 0.8576755733\n",
            "bestIteration = 160\n",
            "\n",
            "Metric AUC is not calculated on train by default. To calculate this metric on train, add hints=skip_train~false to metric parameters.\n",
            "63:\tloss: 0.8576756\tbest: 0.8593289 (2)\ttotal: 2m 37s\tremaining: 41.8s\n",
            "\n",
            "bestTest = 0.8563600532\n",
            "bestIteration = 137\n",
            "\n",
            "Metric AUC is not calculated on train by default. To calculate this metric on train, add hints=skip_train~false to metric parameters.\n",
            "64:\tloss: 0.8563601\tbest: 0.8593289 (2)\ttotal: 2m 39s\tremaining: 39.3s\n",
            "\n",
            "bestTest = 0.8570357289\n",
            "bestIteration = 182\n",
            "\n",
            "Metric AUC is not calculated on train by default. To calculate this metric on train, add hints=skip_train~false to metric parameters.\n",
            "65:\tloss: 0.8570357\tbest: 0.8593289 (2)\ttotal: 2m 41s\tremaining: 36.8s\n",
            "\n",
            "bestTest = 0.8576755733\n",
            "bestIteration = 160\n",
            "\n",
            "Metric AUC is not calculated on train by default. To calculate this metric on train, add hints=skip_train~false to metric parameters.\n",
            "66:\tloss: 0.8576756\tbest: 0.8593289 (2)\ttotal: 2m 44s\tremaining: 34.4s\n",
            "\n",
            "bestTest = 0.8563600532\n",
            "bestIteration = 137\n",
            "\n",
            "Metric AUC is not calculated on train by default. To calculate this metric on train, add hints=skip_train~false to metric parameters.\n",
            "67:\tloss: 0.8563601\tbest: 0.8593289 (2)\ttotal: 2m 47s\tremaining: 31.9s\n",
            "\n",
            "bestTest = 0.8570357289\n",
            "bestIteration = 182\n",
            "\n",
            "Metric AUC is not calculated on train by default. To calculate this metric on train, add hints=skip_train~false to metric parameters.\n",
            "68:\tloss: 0.8570357\tbest: 0.8593289 (2)\ttotal: 2m 49s\tremaining: 29.5s\n",
            "\n",
            "bestTest = 0.8576755733\n",
            "bestIteration = 160\n",
            "\n",
            "Metric AUC is not calculated on train by default. To calculate this metric on train, add hints=skip_train~false to metric parameters.\n",
            "69:\tloss: 0.8576756\tbest: 0.8593289 (2)\ttotal: 2m 51s\tremaining: 27s\n",
            "\n",
            "bestTest = 0.8563600532\n",
            "bestIteration = 137\n",
            "\n",
            "Metric AUC is not calculated on train by default. To calculate this metric on train, add hints=skip_train~false to metric parameters.\n",
            "70:\tloss: 0.8563601\tbest: 0.8593289 (2)\ttotal: 2m 54s\tremaining: 24.6s\n",
            "\n",
            "bestTest = 0.8570382883\n",
            "bestIteration = 192\n",
            "\n",
            "Metric AUC is not calculated on train by default. To calculate this metric on train, add hints=skip_train~false to metric parameters.\n",
            "71:\tloss: 0.8570383\tbest: 0.8593289 (2)\ttotal: 2m 56s\tremaining: 22.1s\n",
            "\n",
            "bestTest = 0.8570280508\n",
            "bestIteration = 162\n",
            "\n",
            "Metric AUC is not calculated on train by default. To calculate this metric on train, add hints=skip_train~false to metric parameters.\n",
            "72:\tloss: 0.8570281\tbest: 0.8593289 (2)\ttotal: 3m\tremaining: 19.8s\n",
            "\n",
            "bestTest = 0.8565776003\n",
            "bestIteration = 123\n",
            "\n",
            "Metric AUC is not calculated on train by default. To calculate this metric on train, add hints=skip_train~false to metric parameters.\n",
            "73:\tloss: 0.8565776\tbest: 0.8593289 (2)\ttotal: 3m 3s\tremaining: 17.4s\n",
            "\n",
            "bestTest = 0.857964783\n",
            "bestIteration = 186\n",
            "\n",
            "Metric AUC is not calculated on train by default. To calculate this metric on train, add hints=skip_train~false to metric parameters.\n",
            "74:\tloss: 0.8579648\tbest: 0.8593289 (2)\ttotal: 3m 7s\tremaining: 15s\n",
            "\n",
            "bestTest = 0.8570280508\n",
            "bestIteration = 162\n",
            "\n",
            "Metric AUC is not calculated on train by default. To calculate this metric on train, add hints=skip_train~false to metric parameters.\n",
            "75:\tloss: 0.8570281\tbest: 0.8593289 (2)\ttotal: 3m 10s\tremaining: 12.6s\n",
            "\n",
            "bestTest = 0.8565776003\n",
            "bestIteration = 123\n",
            "\n",
            "Metric AUC is not calculated on train by default. To calculate this metric on train, add hints=skip_train~false to metric parameters.\n",
            "76:\tloss: 0.8565776\tbest: 0.8593289 (2)\ttotal: 3m 14s\tremaining: 10.1s\n",
            "\n",
            "bestTest = 0.8580108518\n",
            "bestIteration = 187\n",
            "\n",
            "Metric AUC is not calculated on train by default. To calculate this metric on train, add hints=skip_train~false to metric parameters.\n",
            "77:\tloss: 0.8580109\tbest: 0.8593289 (2)\ttotal: 3m 17s\tremaining: 7.61s\n",
            "\n",
            "bestTest = 0.8570280508\n",
            "bestIteration = 162\n",
            "\n",
            "Metric AUC is not calculated on train by default. To calculate this metric on train, add hints=skip_train~false to metric parameters.\n",
            "78:\tloss: 0.8570281\tbest: 0.8593289 (2)\ttotal: 3m 21s\tremaining: 5.09s\n",
            "\n",
            "bestTest = 0.8565776003\n",
            "bestIteration = 123\n",
            "\n",
            "Metric AUC is not calculated on train by default. To calculate this metric on train, add hints=skip_train~false to metric parameters.\n",
            "79:\tloss: 0.8565776\tbest: 0.8593289 (2)\ttotal: 3m 24s\tremaining: 2.56s\n",
            "\n",
            "bestTest = 0.8580108518\n",
            "bestIteration = 187\n",
            "\n",
            "Metric AUC is not calculated on train by default. To calculate this metric on train, add hints=skip_train~false to metric parameters.\n",
            "80:\tloss: 0.8580109\tbest: 0.8593289 (2)\ttotal: 3m 27s\tremaining: 0us\n",
            "Estimating final quality...\n"
          ]
        }
      ],
      "source": [
        "from catboost import CatBoostClassifier\n",
        "import catboost\n",
        "param_grid = {\n",
        "        \"learning_rate\":[0.025, 0.03, 0.04],\n",
        "        \"min_data_in_leaf\":[88, 90, 92],\n",
        "        \"depth\": [3, 4, 5],\n",
        "        \"iterations\":[187, 190, 193]\n",
        "         } # вот разные параметры, которые мы будем пробовать\n",
        "c_grid = CatBoostClassifier(cat_features=cat_cols, random_seed=42, verbose=False, eval_metric='AUC')\n",
        "gs_result = c_grid.grid_search(param_grid, X_train, y=y_train)"
      ]
    },
    {
      "cell_type": "markdown",
      "metadata": {
        "id": "uVahy6JKEEZQ"
      },
      "source": [
        "Выпишите какое лучшее качество и с какими параметрами вам удалось получить"
      ]
    },
    {
      "cell_type": "code",
      "execution_count": 25,
      "metadata": {},
      "outputs": [
        {
          "data": {
            "text/plain": [
              "0.8540562830378673"
            ]
          },
          "execution_count": 25,
          "metadata": {},
          "output_type": "execute_result"
        }
      ],
      "source": [
        "from sklearn.metrics import roc_auc_score\n",
        "roc_auc_score(y_train, c_grid.predict_proba(X_train)[:, 1])"
      ]
    },
    {
      "cell_type": "code",
      "execution_count": 26,
      "metadata": {},
      "outputs": [
        {
          "data": {
            "text/plain": [
              "0.8446299702844204"
            ]
          },
          "execution_count": 26,
          "metadata": {},
          "output_type": "execute_result"
        }
      ],
      "source": [
        "roc_auc_score(y_test, c_grid.predict_proba(X_test)[:, 1])"
      ]
    },
    {
      "cell_type": "code",
      "execution_count": 27,
      "metadata": {},
      "outputs": [
        {
          "data": {
            "text/plain": [
              "{'min_data_in_leaf': 88, 'depth': 3, 'iterations': 187, 'learning_rate': 0.04}"
            ]
          },
          "execution_count": 27,
          "metadata": {},
          "output_type": "execute_result"
        }
      ],
      "source": [
        "gs_result['params']"
      ]
    },
    {
      "cell_type": "markdown",
      "metadata": {
        "id": "rf4Kjt96EEZU"
      },
      "source": [
        "Выпишите какое лучшее качество и с какими параметрами вам удалось получить"
      ]
    },
    {
      "cell_type": "markdown",
      "metadata": {
        "id": "d2d9GolXEEZV"
      },
      "source": [
        "Лучший roc_auc_score с использованием модели CatBoost составляет 0.8446299702844204. Заметим, что значения на test и train выборках почти одинаковое, можно заключить, что переобучение минимально."
      ]
    },
    {
      "cell_type": "markdown",
      "metadata": {
        "id": "dDMXbvNZEEZV"
      },
      "source": [
        "# Предсказания"
      ]
    },
    {
      "cell_type": "code",
      "execution_count": 37,
      "metadata": {
        "id": "G_P4wFNaEEZW",
        "outputId": "1fba5dfc-88e4-49e3-ed8a-afe21ae3325a"
      },
      "outputs": [],
      "source": [
        "best_model = CatBoostClassifier(verbose = False, cat_features = cat_cols, min_data_in_leaf = 88, iterations = 187, learning_rate = 0.03, depth = 3)"
      ]
    },
    {
      "cell_type": "code",
      "execution_count": 39,
      "metadata": {},
      "outputs": [
        {
          "data": {
            "text/plain": [
              "<catboost.core.CatBoostClassifier at 0x19768cc0940>"
            ]
          },
          "execution_count": 39,
          "metadata": {},
          "output_type": "execute_result"
        }
      ],
      "source": [
        "best_model.fit(X, y)"
      ]
    },
    {
      "cell_type": "code",
      "execution_count": 42,
      "metadata": {
        "id": "FfSufx0CEEZZ"
      },
      "outputs": [],
      "source": [
        "X_test = pd.read_csv('./test.csv')\n",
        "submission = pd.read_csv('./submission.csv')\n",
        "\n",
        "submission['Churn'] = best_model.predict_proba(X_test)[:, 1]\n",
        "submission.to_csv('./my_submission_final.csv', index=False)"
      ]
    },
    {
      "cell_type": "markdown",
      "metadata": {
        "id": "mkxjbGkVEEZc"
      },
      "source": [
        "# Kaggle (5 баллов)\n",
        "\n",
        "Как выставить баллы:\n",
        "\n",
        "1) 1 >= roc auc > 0.84 это 5 баллов\n",
        "\n",
        "2) 0.84 >= roc auc > 0.7 это 3 балла\n",
        "\n",
        "3) 0.7 >= roc auc > 0.6 это 1 балл\n",
        "\n",
        "4) 0.6 >= roc auc это 0 баллов\n",
        "\n",
        "\n",
        "Для выполнения задания необходимо выполнить следующие шаги.\n",
        "* Зарегистрироваться на платформе [kaggle.com](kaggle.com). Процесс выставления оценок будет проходить при подведении итогового рейтинга. Пожалуйста, укажите во вкладке Team -> Team name свои имя и фамилию в формате Имя_Фамилия (важно, чтобы имя и фамилия совпадали с данными на Stepik).\n",
        "* Обучить модель, получить файл с ответами в формате .csv и сдать его в конкурс. Пробуйте и экспериментируйте. Обратите внимание, что вы можете выполнять до 20 попыток сдачи на kaggle в день.\n",
        "* После окончания соревнования отправить в итоговый ноутбук с решением на степик. \n",
        "* После дедлайна проверьте посылки других участников по критериям. Для этого надо зайти на степик, скачать их ноутбук и проверить скор в соревновании."
      ]
    }
  ],
  "metadata": {
    "colab": {
      "collapsed_sections": [],
      "name": "baseline.ipynb",
      "provenance": []
    },
    "interpreter": {
      "hash": "eff37c55c47bac411226ca10e7fdee776304656b92d039d163cd589f68a386b5"
    },
    "kernelspec": {
      "display_name": "Python 3.8.8 64-bit ('base': conda)",
      "name": "python3"
    },
    "language_info": {
      "codemirror_mode": {
        "name": "ipython",
        "version": 3
      },
      "file_extension": ".py",
      "mimetype": "text/x-python",
      "name": "python",
      "nbconvert_exporter": "python",
      "pygments_lexer": "ipython3",
      "version": "3.8.8"
    }
  },
  "nbformat": 4,
  "nbformat_minor": 0
}
